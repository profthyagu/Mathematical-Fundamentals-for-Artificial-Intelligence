{
 "cells": [
  {
   "cell_type": "markdown",
   "metadata": {},
   "source": [
    "# 1. LISTS"
   ]
  },
  {
   "cell_type": "markdown",
   "metadata": {},
   "source": [
    "# Creating a List "
   ]
  },
  {
   "cell_type": "code",
   "execution_count": 23,
   "metadata": {},
   "outputs": [],
   "source": [
    "# Creating List \n",
    "list1 = ['AI', 'Deep Learning', 1997, 2000]\n",
    "list2 = [1, 2, 3, 4, 5 ]\n",
    "list3 = [\"a\", \"b\", \"c\", \"d\"]\n",
    "list4 = [10, [3.141, 20, [30, 'baz', 2.718]], 'foo']\n"
   ]
  },
  {
   "cell_type": "code",
   "execution_count": 24,
   "metadata": {},
   "outputs": [
    {
     "name": "stdout",
     "output_type": "stream",
     "text": [
      "['AI', 'Deep Learning', 1997, 2000]\n",
      "[1, 2, 3, 4, 5]\n",
      "['a', 'b', 'c', 'd']\n",
      "[10, [3.141, 20, [30, 'baz', 2.718]], 'foo']\n"
     ]
    }
   ],
   "source": [
    "print(list1)\n",
    "print(list2)\n",
    "print(list3)\n",
    "print(list4)"
   ]
  },
  {
   "cell_type": "markdown",
   "metadata": {},
   "source": [
    "# Accessing Values in Lists"
   ]
  },
  {
   "cell_type": "code",
   "execution_count": 53,
   "metadata": {},
   "outputs": [
    {
     "name": "stdout",
     "output_type": "stream",
     "text": [
      "list1[0]:  22.5\n",
      "list1[5]:  2000\n",
      "list1[0:]:  [22.5, 'Artificial Intelligence', 'Python', 'Deep Learning', 1997, 2000]\n",
      "list1[:]:  [22.5, 'Artificial Intelligence', 'Python', 'Deep Learning', 1997, 2000]\n",
      "list1[1:6]:  ['Artificial Intelligence', 'Python', 'Deep Learning', 1997, 2000]\n",
      "list1[-6]:  22.5\n",
      "list1[0:-5]:  [22.5]\n",
      "list1[::]:  [22.5, 'Artificial Intelligence', 'Python', 'Deep Learning', 1997, 2000]\n",
      "list1[::-1]:  [2000, 1997, 'Deep Learning', 'Python', 'Artificial Intelligence', 22.5]\n",
      "list1[1:4:2]:  ['Artificial Intelligence', 'Deep Learning']\n",
      "list1[4::-2]:  [1997, 'Python', 22.5]\n"
     ]
    }
   ],
   "source": [
    "list1 = [22.5 , 'Artificial Intelligence' ,'Python', 'Deep Learning', 1997, 2000];\n",
    "print(\"list1[0]: \", list1[0])\n",
    "print(\"list1[5]: \", list1[5])\n",
    "print(\"list1[0:]: \", list1[0:])\n",
    "print(\"list1[:]: \", list1[:])\n",
    "print(\"list1[1:6]: \", list1[1:6])\n",
    "print(\"list1[-6]: \", list1[-6])\n",
    "print(\"list1[0:-5]: \", list1[0:-5])\n",
    "print(\"list1[::]: \", list1[::])\n",
    "print(\"list1[::-1]: \", list1[::-1])\n",
    "print(\"list1[1:4:2]: \", list1[1:4:2])\n",
    "print(\"list1[4::-2]: \", list1[4::-2])\n"
   ]
  },
  {
   "cell_type": "code",
   "execution_count": 54,
   "metadata": {},
   "outputs": [
    {
     "data": {
      "text/plain": [
       "'z'"
      ]
     },
     "execution_count": 54,
     "metadata": {},
     "output_type": "execute_result"
    }
   ],
   "source": [
    "x = [10, [3.141, 20, [30, 'baz', 2.718]], 'foo']\n",
    "x[1][2][1][2]"
   ]
  },
  {
   "cell_type": "code",
   "execution_count": 55,
   "metadata": {},
   "outputs": [
    {
     "data": {
      "text/plain": [
       "['baz', 2.718]"
      ]
     },
     "execution_count": 55,
     "metadata": {},
     "output_type": "execute_result"
    }
   ],
   "source": [
    "x[1][2][1:3]"
   ]
  },
  {
   "cell_type": "markdown",
   "metadata": {},
   "source": [
    "# Adding new Values "
   ]
  },
  {
   "cell_type": "code",
   "execution_count": 56,
   "metadata": {},
   "outputs": [
    {
     "name": "stdout",
     "output_type": "stream",
     "text": [
      "list1 values:  ['AI', 'Deep Learning', 1997, 2000]\n",
      "list1 values post append:  ['AI', 'Deep Learning', 1997, 2000, 'MACHINE LEARNING']\n"
     ]
    }
   ],
   "source": [
    "#Example code for adding new values to lists\n",
    "list1 = ['AI', 'Deep Learning', 1997, 2000]\n",
    "print(\"list1 values: \", list1)\n",
    "# Adding new value to list\n",
    "list1.append(\"MACHINE LEARNING\")\n",
    "print(\"list1 values post append: \", list1)"
   ]
  },
  {
   "cell_type": "markdown",
   "metadata": {},
   "source": [
    "# Updating Existing Values "
   ]
  },
  {
   "cell_type": "code",
   "execution_count": 57,
   "metadata": {},
   "outputs": [
    {
     "name": "stdout",
     "output_type": "stream",
     "text": [
      "Values of list1:  ['AI', 'Deep Learning', 1997, 2000, 'MACHINE LEARNING']\n",
      "Index 2 value :  1997\n",
      "Index 2's new value :  2020\n"
     ]
    }
   ],
   "source": [
    "#Example code for updating existing values of lists\n",
    "print(\"Values of list1: \", list1)\n",
    "# Updating existing value of list\n",
    "print(\"Index 2 value : \", list1[2])\n",
    "list1[2] = 2020\n",
    "print(\"Index 2's new value : \", list1[2])"
   ]
  },
  {
   "cell_type": "markdown",
   "metadata": {},
   "source": [
    "# Deleting a List Element"
   ]
  },
  {
   "cell_type": "code",
   "execution_count": 58,
   "metadata": {},
   "outputs": [
    {
     "name": "stdout",
     "output_type": "stream",
     "text": [
      "list1 values:  ['AI', 'Deep Learning', 2020, 2000, 'MACHINE LEARNING']\n",
      "After deleting value at index 2 :  ['AI', 'Deep Learning', 2020, 'MACHINE LEARNING']\n"
     ]
    }
   ],
   "source": [
    "#Example code for deleting a list element\n",
    "print(\"list1 values: \", list1)\n",
    "# Deleting list element\n",
    "del list1[3]\n",
    "print(\"After deleting value at index 2 : \", list1)"
   ]
  },
  {
   "cell_type": "markdown",
   "metadata": {},
   "source": [
    "# Basic Operations - 1"
   ]
  },
  {
   "cell_type": "code",
   "execution_count": 59,
   "metadata": {},
   "outputs": [
    {
     "name": "stdout",
     "output_type": "stream",
     "text": [
      "Length:  4\n",
      "Concatenation:  [1, 2, 3, 4, 5, 6]\n",
      "Repetition : ['Hello', 'Hello', 'Hello', 'Hello']\n",
      "Membership : True\n",
      "Iteration :\n",
      "1\n",
      "2\n",
      "3\n"
     ]
    }
   ],
   "source": [
    "# Basic Operations on List \n",
    "import math\n",
    "import string\n",
    "import operator\n",
    "#Example code for basic operations on lists\n",
    "\n",
    "print(\"Length: \", len(list1))\n",
    "\n",
    "print(\"Concatenation: \", [1,2,3] + [4, 5, 6])\n",
    "\n",
    "print(\"Repetition :\", ['Hello'] * 4)\n",
    "\n",
    "print(\"Membership :\", 3 in [1,2,3])\n",
    "\n",
    "print(\"Iteration :\")\n",
    "for x in [1,2,3]: \n",
    "    print(x)"
   ]
  },
  {
   "cell_type": "markdown",
   "metadata": {},
   "source": [
    "# Basic Operations 2"
   ]
  },
  {
   "cell_type": "code",
   "execution_count": 60,
   "metadata": {},
   "outputs": [
    {
     "name": "stdout",
     "output_type": "stream",
     "text": [
      "Max of list:  5\n",
      "Min of list:  1\n",
      "Count number of 1 in list:  2\n",
      "Extended : ['AI', 'Deep Learning', 2020, 'MACHINE LEARNING', 'PSYCHOLOGY', 'STATISTICS', 'MATHS', 'DOMAIN']\n"
     ]
    }
   ],
   "source": [
    "list2 = ['PSYCHOLOGY','STATISTICS','MATHS','DOMAIN']\n",
    "print(\"Max of list: \", max([1,2,3,4,5]))\n",
    "\n",
    "print(\"Min of list: \", min([1,2,3,4,5]))\n",
    "\n",
    "print(\"Count number of 1 in list: \", [1,1,2,3,4,5,].count(1))\n",
    "\n",
    "list1.extend(list2)\n",
    "\n",
    "print(\"Extended :\", list1)"
   ]
  },
  {
   "cell_type": "markdown",
   "metadata": {},
   "source": [
    "# Basic Operations 3"
   ]
  },
  {
   "cell_type": "code",
   "execution_count": 61,
   "metadata": {},
   "outputs": [
    {
     "name": "stdout",
     "output_type": "stream",
     "text": [
      "pop last item in list:  DOMAIN\n",
      "List after POP ['AI', 'Deep Learning', 2020, 'MACHINE LEARNING', 'PSYCHOLOGY', 'STATISTICS', 'MATHS']\n",
      "pop the item with index 2:  2020\n",
      "List after POP 2 ['AI', 'Deep Learning', 'MACHINE LEARNING', 'PSYCHOLOGY', 'STATISTICS', 'MATHS']\n",
      "removed b from list:  ['AI', 'Deep Learning', 'MACHINE LEARNING', 'PSYCHOLOGY', 'STATISTICS']\n",
      "Reverse:  ['STATISTICS', 'PSYCHOLOGY', 'MACHINE LEARNING', 'Deep Learning', 'AI']\n",
      "Sort ascending:  ['a', 'b', 'c']\n",
      "Sort descending:  ['c', 'b', 'a']\n"
     ]
    }
   ],
   "source": [
    "print(\"pop last item in list: \", list1.pop())\n",
    "print(\"List after POP\",list1)\n",
    "print(\"pop the item with index 2: \", list1.pop(2))\n",
    "print(\"List after POP 2\",list1)\n",
    "list1.remove('MATHS')\n",
    "print(\"removed b from list: \", list1)\n",
    "list1.reverse()\n",
    "print(\"Reverse: \", list1)\n",
    "list1 = ['a','c','b']\n",
    "list1.sort()\n",
    "print(\"Sort ascending: \", list1)\n",
    "list1.sort(reverse = True)\n",
    "print(\"Sort descending: \", list1)"
   ]
  },
  {
   "cell_type": "code",
   "execution_count": 62,
   "metadata": {},
   "outputs": [
    {
     "name": "stdout",
     "output_type": "stream",
     "text": [
      "[]\n",
      "[1, 2, 4, 5]\n",
      "[1, 2, 4, 5]\n",
      "[3]\n"
     ]
    }
   ],
   "source": [
    "a = [1, 2, 3, 4, 5]\n",
    "print(a[2:2] )\n",
    "a = [1, 2, 3, 4, 5]\n",
    "a.remove(3)\n",
    "print(a)\n",
    "a = [1, 2, 3, 4, 5]\n",
    "del a[2]\n",
    "print(a)\n",
    "a = [1, 2, 3, 4, 5]\n",
    "print(a[2:3] )"
   ]
  },
  {
   "cell_type": "code",
   "execution_count": 63,
   "metadata": {},
   "outputs": [
    {
     "name": "stdout",
     "output_type": "stream",
     "text": [
      "['a', 'b', 'c', 'd', 'e']\n",
      "['a', 'b', 'd', 'e']\n",
      "['a', 'b', 'c', 'd', 'e']\n",
      "['a', 'b', 'c', 'd', 'e']\n",
      "['a', 'b', 'c', 'd', 'e']\n"
     ]
    }
   ],
   "source": [
    "a = ['a', 'b', 'c']\n",
    "a += ['d', 'e']\n",
    "print(a)\n",
    "a = ['a', 'b', 'c']\n",
    "a[-1:] = ['d', 'e']\n",
    "print(a)\n",
    "a = ['a', 'b', 'c']\n",
    "a[len(a):] = ['d', 'e']\n",
    "print(a)\n",
    "a = ['a', 'b', 'c']\n",
    "a += 'de'\n",
    "print(a)\n",
    "a = ['a', 'b', 'c']\n",
    "a.extend(['d', 'e'])\n",
    "print(a)"
   ]
  },
  {
   "cell_type": "code",
   "execution_count": 64,
   "metadata": {},
   "outputs": [
    {
     "name": "stdout",
     "output_type": "stream",
     "text": [
      "[1, 2, 3, 4, 5, 6, 7, 8]\n",
      "[1, 2, 3, 4, 5, 6, 7, 8]\n"
     ]
    }
   ],
   "source": [
    "a = [1, 2, 7, 8]\n",
    "a = a[0:2] + [3,4,5,6] + a[2:]\n",
    "print(a)\n",
    "a = [1, 2, 7, 8]\n",
    "a[2:2] = [3, 4, 5, 6]\n",
    "print(a)"
   ]
  },
  {
   "cell_type": "markdown",
   "metadata": {},
   "source": [
    "# Tuples"
   ]
  },
  {
   "cell_type": "markdown",
   "metadata": {},
   "source": [
    "# Creating Tuples "
   ]
  },
  {
   "cell_type": "code",
   "execution_count": 65,
   "metadata": {},
   "outputs": [
    {
     "name": "stdout",
     "output_type": "stream",
     "text": [
      "Empty Tuple:  ()\n",
      "Tuple with single item:  (1,)\n",
      "Sample Tuple : ('a', 'b', 'c', 'd', 1, 2, 3)\n"
     ]
    }
   ],
   "source": [
    "# Example code for creating tuple\n",
    "# Creating a tuple\n",
    "Tuple = ()\n",
    "print(\"Empty Tuple: \", Tuple)\n",
    "Tuple = (1,)\n",
    "print(\"Tuple with single item: \", Tuple)\n",
    "Tuple = ('a','b','c','d',1,2,3)\n",
    "print(\"Sample Tuple :\", Tuple)"
   ]
  },
  {
   "cell_type": "markdown",
   "metadata": {},
   "source": [
    "# Accessing elements of Tuples "
   ]
  },
  {
   "cell_type": "code",
   "execution_count": 66,
   "metadata": {},
   "outputs": [
    {
     "name": "stdout",
     "output_type": "stream",
     "text": [
      "3rd item of Tuple: c\n",
      "First 3 items of Tuple ('a', 'b')\n"
     ]
    }
   ],
   "source": [
    "#Example code for accessing tuple\n",
    "# Accessing items in tuple\n",
    "Tuple = ('a', 'b', 'c', 'd', 1, 2, 3)\n",
    "print(\"3rd item of Tuple:\", Tuple[2])\n",
    "print(\"First 3 items of Tuple\", Tuple[0:2])"
   ]
  },
  {
   "cell_type": "markdown",
   "metadata": {},
   "source": [
    "# Deleting Elements of Tuples "
   ]
  },
  {
   "cell_type": "code",
   "execution_count": 67,
   "metadata": {},
   "outputs": [
    {
     "name": "stdout",
     "output_type": "stream",
     "text": [
      "Sample Tuple:  ('a', 'b', 'c', 'd', 1, 2, 3)\n"
     ]
    },
    {
     "ename": "NameError",
     "evalue": "name 'Tuple' is not defined",
     "output_type": "error",
     "traceback": [
      "\u001b[1;31m---------------------------------------------------------------------------\u001b[0m",
      "\u001b[1;31mNameError\u001b[0m                                 Traceback (most recent call last)",
      "\u001b[1;32m<ipython-input-67-efdc3134feeb>\u001b[0m in \u001b[0;36m<module>\u001b[1;34m\u001b[0m\n\u001b[0;32m      3\u001b[0m \u001b[0mprint\u001b[0m\u001b[1;33m(\u001b[0m\u001b[1;34m\"Sample Tuple: \"\u001b[0m\u001b[1;33m,\u001b[0m \u001b[0mTuple\u001b[0m\u001b[1;33m)\u001b[0m\u001b[1;33m\u001b[0m\u001b[1;33m\u001b[0m\u001b[0m\n\u001b[0;32m      4\u001b[0m \u001b[1;32mdel\u001b[0m \u001b[0mTuple\u001b[0m\u001b[1;33m\u001b[0m\u001b[1;33m\u001b[0m\u001b[0m\n\u001b[1;32m----> 5\u001b[1;33m \u001b[0mprint\u001b[0m\u001b[1;33m(\u001b[0m\u001b[0mTuple\u001b[0m\u001b[1;33m)\u001b[0m \u001b[1;31m# Will throw an error message as the tuple does not exist\u001b[0m\u001b[1;33m\u001b[0m\u001b[1;33m\u001b[0m\u001b[0m\n\u001b[0m",
      "\u001b[1;31mNameError\u001b[0m: name 'Tuple' is not defined"
     ]
    }
   ],
   "source": [
    "#Example code for deleting tuple\n",
    "# Deleting tuple\n",
    "print(\"Sample Tuple: \", Tuple)\n",
    "del Tuple\n",
    "print(Tuple) # Will throw an error message as the tuple does not exist"
   ]
  },
  {
   "cell_type": "markdown",
   "metadata": {},
   "source": [
    "# Basic Tuple Operations -1"
   ]
  },
  {
   "cell_type": "code",
   "execution_count": 68,
   "metadata": {},
   "outputs": [
    {
     "name": "stdout",
     "output_type": "stream",
     "text": [
      "Length of Tuple:  7\n",
      "Concatinated Tuple:  ('a', 'b', 'c', 'd', 1, 2, 3, 7, 8, 9)\n",
      "Repetition:  (1, 'a', 2, 'b', 1, 'a', 2, 'b', 1, 'a', 2, 'b')\n",
      "Membership check:  True\n"
     ]
    }
   ],
   "source": [
    "# Example code for basic operations on tupe (not exhaustive)\n",
    "# Basic Tuple operations\n",
    "Tuple = ('a','b','c','d',1,2,3)\n",
    "print(\"Length of Tuple: \", len(Tuple))\n",
    "Tuple_Concat = Tuple + (7,8,9)\n",
    "print(\"Concatinated Tuple: \", Tuple_Concat)\n",
    "\n",
    "print(\"Repetition: \", (1,'a',2, 'b') * 3)\n",
    "print(\"Membership check: \", 3 in (1,2,3))"
   ]
  },
  {
   "cell_type": "markdown",
   "metadata": {},
   "source": [
    "# Basic Tuple Operations -2"
   ]
  },
  {
   "cell_type": "code",
   "execution_count": 69,
   "metadata": {},
   "outputs": [
    {
     "name": "stdout",
     "output_type": "stream",
     "text": [
      "1\n",
      "2\n",
      "3\n",
      "Negative sign will retrieve item from right:  8\n",
      "Sliced Tuple [2:]  ('c', 'd', 1, 2, 3, 7, 8, 9)\n",
      "Max of the Tuple (1,2,3,4,5,6,7,8,9,10):  10\n",
      "Min of the Tuple (1,2,3,4,5,6,7,8,9,10):  1\n",
      "List [1,2,3,4] converted to tuple:  <class 'tuple'>\n"
     ]
    }
   ],
   "source": [
    "# Iteration\n",
    "for x in (1, 2, 3): print(x)\n",
    "print(\"Negative sign will retrieve item from right: \", Tuple_Concat[-2])\n",
    "print(\"Sliced Tuple [2:] \", Tuple_Concat[2:])\n",
    "# Find max\n",
    "print(\"Max of the Tuple (1,2,3,4,5,6,7,8,9,10): \",\n",
    "max((1,2,3,4,5,6,7,8,9,10)))\n",
    "print(\"Min of the Tuple (1,2,3,4,5,6,7,8,9,10): \",\n",
    "min((1,2,3,4,5,6,7,8,9,10)))\n",
    "print(\"List [1,2,3,4] converted to tuple: \", type(tuple([1,2,3,4])))"
   ]
  },
  {
   "cell_type": "code",
   "execution_count": 71,
   "metadata": {},
   "outputs": [
    {
     "ename": "TypeError",
     "evalue": "'tuple' object does not support item assignment",
     "output_type": "error",
     "traceback": [
      "\u001b[1;31m---------------------------------------------------------------------------\u001b[0m",
      "\u001b[1;31mTypeError\u001b[0m                                 Traceback (most recent call last)",
      "\u001b[1;32m<ipython-input-71-01a2d7e3ee08>\u001b[0m in \u001b[0;36m<module>\u001b[1;34m\u001b[0m\n\u001b[0;32m      1\u001b[0m \u001b[0mt\u001b[0m \u001b[1;33m=\u001b[0m \u001b[1;33m(\u001b[0m\u001b[1;34m'foo'\u001b[0m\u001b[1;33m,\u001b[0m \u001b[1;34m'bar'\u001b[0m\u001b[1;33m,\u001b[0m \u001b[1;34m'baz'\u001b[0m\u001b[1;33m)\u001b[0m\u001b[1;33m\u001b[0m\u001b[1;33m\u001b[0m\u001b[0m\n\u001b[1;32m----> 2\u001b[1;33m \u001b[0mt\u001b[0m\u001b[1;33m[\u001b[0m\u001b[1;36m1\u001b[0m\u001b[1;33m:\u001b[0m\u001b[1;36m1\u001b[0m\u001b[1;33m]\u001b[0m \u001b[1;33m=\u001b[0m \u001b[1;34m'qux'\u001b[0m\u001b[1;33m\u001b[0m\u001b[1;33m\u001b[0m\u001b[0m\n\u001b[0m\u001b[0;32m      3\u001b[0m \u001b[0mprint\u001b[0m\u001b[1;33m(\u001b[0m\u001b[0mt\u001b[0m\u001b[1;33m)\u001b[0m\u001b[1;33m\u001b[0m\u001b[1;33m\u001b[0m\u001b[0m\n\u001b[0;32m      4\u001b[0m \u001b[0mt\u001b[0m \u001b[1;33m=\u001b[0m \u001b[1;33m(\u001b[0m\u001b[1;34m'foo'\u001b[0m\u001b[1;33m,\u001b[0m \u001b[1;34m'bar'\u001b[0m\u001b[1;33m,\u001b[0m \u001b[1;34m'baz'\u001b[0m\u001b[1;33m)\u001b[0m\u001b[1;33m\u001b[0m\u001b[1;33m\u001b[0m\u001b[0m\n\u001b[0;32m      5\u001b[0m \u001b[0mt\u001b[0m\u001b[1;33m[\u001b[0m\u001b[1;36m1\u001b[0m\u001b[1;33m]\u001b[0m \u001b[1;33m=\u001b[0m \u001b[1;34m'qux'\u001b[0m\u001b[1;33m\u001b[0m\u001b[1;33m\u001b[0m\u001b[0m\n",
      "\u001b[1;31mTypeError\u001b[0m: 'tuple' object does not support item assignment"
     ]
    }
   ],
   "source": [
    "t = ('foo', 'bar', 'baz')\n",
    "t[1:1] = 'qux'\n",
    "print(t)\n",
    "t = ('foo', 'bar', 'baz')\n",
    "t[1] = 'qux'\n",
    "print(t)"
   ]
  },
  {
   "cell_type": "code",
   "execution_count": 77,
   "metadata": {},
   "outputs": [
    {
     "name": "stdout",
     "output_type": "stream",
     "text": [
      "2\n",
      "5\n",
      "8\n"
     ]
    }
   ],
   "source": [
    "a, b, c = (1, 2, 3, 4, 5, 6, 7, 8, 9)[1::3]\n",
    "print(a)\n",
    "print(b)\n",
    "print(c)"
   ]
  },
  {
   "cell_type": "code",
   "execution_count": 92,
   "metadata": {},
   "outputs": [
    {
     "name": "stdout",
     "output_type": "stream",
     "text": [
      "(5, 4, 3, 2, 1)\n",
      "5\n",
      "-5\n"
     ]
    }
   ],
   "source": [
    "t= (1,2,3,4,5)\n",
    "print(t[::-1])\n",
    "x = 5\n",
    "y = -5\n",
    "x, y = (y, x)[::-1]\n",
    "print(x)\n",
    "print(y)"
   ]
  },
  {
   "cell_type": "markdown",
   "metadata": {},
   "source": [
    "# 3 Dictionaries "
   ]
  },
  {
   "cell_type": "markdown",
   "metadata": {},
   "source": [
    "# Creating Dictionaries "
   ]
  },
  {
   "cell_type": "code",
   "execution_count": 93,
   "metadata": {},
   "outputs": [
    {
     "name": "stdout",
     "output_type": "stream",
     "text": [
      "Sample dictionary:  {'Name': 'Jivin', 'Age': 6, 'Class': 'First'}\n"
     ]
    }
   ],
   "source": [
    "# Example code for creating dictionary\n",
    "# Creating dictionary\n",
    "dict = {'Name': 'Jivin', 'Age': 6, 'Class': 'First'}\n",
    "print(\"Sample dictionary: \", dict)"
   ]
  },
  {
   "cell_type": "code",
   "execution_count": 95,
   "metadata": {},
   "outputs": [
    {
     "name": "stdout",
     "output_type": "stream",
     "text": [
      "Sample dictionary:  {'Name': 'Jivin', 'Age': 6, 'Class': 'First'}\n",
      "1 Name Jivin\n",
      "2 Age 6\n",
      "3 Class First\n"
     ]
    }
   ],
   "source": [
    "dict0 = {'Name': 'Jivin', 'Age': 6, 'Class': 'First'}\n",
    "print(\"Sample dictionary: \", dict0)\n",
    "k=1\n",
    "for i in dict0:\n",
    "    print(k,i,dict0[i])\n",
    "    k=k+1"
   ]
  },
  {
   "cell_type": "markdown",
   "metadata": {},
   "source": [
    "# Accessing Dictionary Element"
   ]
  },
  {
   "cell_type": "code",
   "execution_count": 94,
   "metadata": {},
   "outputs": [
    {
     "name": "stdout",
     "output_type": "stream",
     "text": [
      "Value of key Name, from sample dictionary: Jivin\n"
     ]
    }
   ],
   "source": [
    "# Example code for accessing dictionary\n",
    "# Accessing items in dictionary\n",
    "print(\"Value of key Name, from sample dictionary:\", dict['Name'])"
   ]
  },
  {
   "cell_type": "markdown",
   "metadata": {},
   "source": [
    "# Deleting Dictionary Elements "
   ]
  },
  {
   "cell_type": "code",
   "execution_count": 97,
   "metadata": {},
   "outputs": [
    {
     "name": "stdout",
     "output_type": "stream",
     "text": [
      "Sample dictionary:  {'Name': 'Jivin', 'Age': 6, 'Class': 'First'}\n",
      "Sample dictionary post deletion of item Name: {'Age': 6, 'Class': 'First'}\n",
      "dict post dict.clear(): {}\n"
     ]
    },
    {
     "ename": "NameError",
     "evalue": "name 'dict0' is not defined",
     "output_type": "error",
     "traceback": [
      "\u001b[1;31m---------------------------------------------------------------------------\u001b[0m",
      "\u001b[1;31mNameError\u001b[0m                                 Traceback (most recent call last)",
      "\u001b[1;32m<ipython-input-97-47f5b4747a30>\u001b[0m in \u001b[0;36m<module>\u001b[1;34m\u001b[0m\n\u001b[0;32m     11\u001b[0m \u001b[0mdict\u001b[0m \u001b[1;33m=\u001b[0m \u001b[1;33m{\u001b[0m\u001b[1;34m'Name'\u001b[0m\u001b[1;33m:\u001b[0m \u001b[1;34m'Jivin'\u001b[0m\u001b[1;33m,\u001b[0m \u001b[1;34m'Age'\u001b[0m\u001b[1;33m:\u001b[0m \u001b[1;36m6\u001b[0m\u001b[1;33m,\u001b[0m \u001b[1;34m'Class'\u001b[0m\u001b[1;33m:\u001b[0m \u001b[1;34m'First'\u001b[0m\u001b[1;33m}\u001b[0m\u001b[1;33m\u001b[0m\u001b[1;33m\u001b[0m\u001b[0m\n\u001b[0;32m     12\u001b[0m \u001b[1;32mdel\u001b[0m \u001b[1;33m(\u001b[0m\u001b[0mdict0\u001b[0m\u001b[1;33m)\u001b[0m \u001b[1;31m# Delete the dictionary\u001b[0m\u001b[1;33m\u001b[0m\u001b[1;33m\u001b[0m\u001b[0m\n\u001b[1;32m---> 13\u001b[1;33m \u001b[0mprint\u001b[0m\u001b[1;33m(\u001b[0m\u001b[0mdict0\u001b[0m\u001b[1;33m)\u001b[0m\u001b[1;33m\u001b[0m\u001b[1;33m\u001b[0m\u001b[0m\n\u001b[0m",
      "\u001b[1;31mNameError\u001b[0m: name 'dict0' is not defined"
     ]
    }
   ],
   "source": [
    "dict0 = {'Name': 'Jivin', 'Age': 6, 'Class': 'First'}\n",
    "print(\"Sample dictionary: \", dict0)\n",
    "del (dict0['Name']) # Delete specific item\n",
    "\n",
    "print(\"Sample dictionary post deletion of item Name:\", dict0)\n",
    "\n",
    "dict0 = {'Name': 'Jivin', 'Age': 6, 'Class': 'First'}\n",
    "dict0.clear() # Clear all the contents of dictionary\n",
    "print(\"dict post dict.clear():\", dict0)\n",
    "\n",
    "dict = {'Name': 'Jivin', 'Age': 6, 'Class': 'First'}\n",
    "del (dict0) # Delete the dictionary\n",
    "print(dict0)"
   ]
  },
  {
   "cell_type": "markdown",
   "metadata": {},
   "source": [
    "# Updating Dictionary Element"
   ]
  },
  {
   "cell_type": "code",
   "execution_count": 99,
   "metadata": {},
   "outputs": [
    {
     "name": "stdout",
     "output_type": "stream",
     "text": [
      "Sample dictionary:  {'Name': 'Jivin', 'Age': 6, 'Class': 'First'}\n",
      "Dictionary post age value update:  {'Name': 'Jivin', 'Age': 6.5, 'Class': 'First'}\n"
     ]
    }
   ],
   "source": [
    "# Updating Dictionary Element\n",
    "#Example code for updating dictionary\n",
    "dict = {'Name': 'Jivin', 'Age': 6, 'Class': 'First'}\n",
    "print(\"Sample dictionary: \", dict)\n",
    "dict['Age'] = 6.5\n",
    "print(\"Dictionary post age value update: \", dict)"
   ]
  },
  {
   "cell_type": "markdown",
   "metadata": {},
   "source": [
    "# Basic Dictionary Operations -1"
   ]
  },
  {
   "cell_type": "code",
   "execution_count": 101,
   "metadata": {},
   "outputs": [
    {
     "name": "stdout",
     "output_type": "stream",
     "text": [
      "Length of dict:  3\n",
      "Copy:\n",
      " {'Name': 'Jivin', 'Age': 6, 'Class': 'First'}\n"
     ]
    }
   ],
   "source": [
    "#Example code for basic operations on dictionary\n",
    "# Basic operations\n",
    "dict = {'Name': 'Jivin', 'Age': 6, 'Class': 'First'}\n",
    "print(\"Length of dict: \", len(dict))\n",
    "\n",
    "# Copy the dict\n",
    "dict1 = dict.copy()\n",
    "print(\"Copy:\\n\",dict1)\n",
    "\n"
   ]
  },
  {
   "cell_type": "markdown",
   "metadata": {},
   "source": [
    "# Basic Dictionary Operations -2"
   ]
  },
  {
   "cell_type": "code",
   "execution_count": 102,
   "metadata": {},
   "outputs": [
    {
     "name": "stdout",
     "output_type": "stream",
     "text": [
      "Value for Age:  6\n",
      "dict items:  dict_items([('Name', 'Jivin'), ('Age', 6), ('Class', 'First')])\n",
      "dict keys:  dict_keys(['Name', 'Age', 'Class'])\n",
      "Value of dict:  dict_values(['Jivin', 6, 'First'])\n"
     ]
    }
   ],
   "source": [
    "# Retrieve value for a given key\n",
    "print(\"Value for Age: \", dict.get('Age'))\n",
    "\n",
    "# Return items of dictionary\n",
    "print(\"dict items: \", dict.items())\n",
    "\n",
    "# Return items of keys\n",
    "print(\"dict keys: \", dict.keys())\n",
    "\n",
    "# return values of dict\n",
    "print(\"Value of dict: \", dict.values())\n"
   ]
  },
  {
   "cell_type": "markdown",
   "metadata": {},
   "source": [
    "#  Basic Dictionary Operations -3"
   ]
  },
  {
   "cell_type": "code",
   "execution_count": 103,
   "metadata": {},
   "outputs": [
    {
     "name": "stdout",
     "output_type": "stream",
     "text": [
      "dict1.update(dict2) =  {'Name': 'Jivin', 'Age': 6, 'Sex': 'male'}\n"
     ]
    }
   ],
   "source": [
    "# Concatenate dicts\n",
    "dict1 = {'Name': 'Jivin', 'Age': 6}\n",
    "dict2 = {'Sex': 'male' }\n",
    "dict1.update(dict2)\n",
    "print(\"dict1.update(dict2) = \", dict1)"
   ]
  },
  {
   "cell_type": "code",
   "execution_count": 115,
   "metadata": {},
   "outputs": [
    {
     "name": "stdout",
     "output_type": "stream",
     "text": [
      "{'foo': 100, 'bar': 200, 'baz': 300}\n",
      "{'foo': 100, 'bar': 200, 'baz': 300}\n"
     ]
    }
   ],
   "source": [
    "d = {'foo': 100, 'bar': 200, 'baz': 300}\n",
    "print(d)\n",
    "d = {}\n",
    "d['foo'] = 100\n",
    "d['bar'] = 200\n",
    "d['baz'] = 300\n",
    "print(d)"
   ]
  },
  {
   "cell_type": "code",
   "execution_count": 116,
   "metadata": {},
   "outputs": [
    {
     "ename": "TypeError",
     "evalue": "unhashable type: 'slice'",
     "output_type": "error",
     "traceback": [
      "\u001b[1;31m---------------------------------------------------------------------------\u001b[0m",
      "\u001b[1;31mTypeError\u001b[0m                                 Traceback (most recent call last)",
      "\u001b[1;32m<ipython-input-116-cfaaef72097c>\u001b[0m in \u001b[0;36m<module>\u001b[1;34m\u001b[0m\n\u001b[0;32m      1\u001b[0m \u001b[0md\u001b[0m \u001b[1;33m=\u001b[0m \u001b[1;33m{\u001b[0m\u001b[1;34m'foo'\u001b[0m\u001b[1;33m:\u001b[0m \u001b[1;36m100\u001b[0m\u001b[1;33m,\u001b[0m \u001b[1;34m'bar'\u001b[0m\u001b[1;33m:\u001b[0m \u001b[1;36m200\u001b[0m\u001b[1;33m,\u001b[0m \u001b[1;34m'baz'\u001b[0m\u001b[1;33m:\u001b[0m \u001b[1;36m300\u001b[0m\u001b[1;33m}\u001b[0m\u001b[1;33m\u001b[0m\u001b[1;33m\u001b[0m\u001b[0m\n\u001b[1;32m----> 2\u001b[1;33m \u001b[0md\u001b[0m\u001b[1;33m[\u001b[0m\u001b[1;34m'bar'\u001b[0m\u001b[1;33m:\u001b[0m\u001b[1;34m'baz'\u001b[0m\u001b[1;33m]\u001b[0m\u001b[1;33m\u001b[0m\u001b[1;33m\u001b[0m\u001b[0m\n\u001b[0m",
      "\u001b[1;31mTypeError\u001b[0m: unhashable type: 'slice'"
     ]
    }
   ],
   "source": [
    "d = {'foo': 100, 'bar': 200, 'baz': 300}\n",
    "d['bar':'baz']"
   ]
  },
  {
   "cell_type": "code",
   "execution_count": 117,
   "metadata": {},
   "outputs": [
    {
     "name": "stdout",
     "output_type": "stream",
     "text": [
      "['a', 'b', {'foo': 1, 'bar': {'x': 10, 'y': 20, 'z': 30}, 'baz': 3}, 'c', 'd']\n"
     ]
    }
   ],
   "source": [
    "x = [\n",
    "    'a',\n",
    "    'b',\n",
    "    {\n",
    "        'foo': 1,\n",
    "        'bar':\n",
    "        {\n",
    "            'x' : 10,\n",
    "            'y' : 20,\n",
    "            'z' : 30\n",
    "        },\n",
    "        'baz': 3\n",
    "    },\n",
    "    'c',\n",
    "    'd'\n",
    "]\n",
    "print(x)"
   ]
  },
  {
   "cell_type": "code",
   "execution_count": 118,
   "metadata": {
    "collapsed": true
   },
   "outputs": [
    {
     "data": {
      "text/plain": [
       "30"
      ]
     },
     "execution_count": 118,
     "metadata": {},
     "output_type": "execute_result"
    }
   ],
   "source": [
    "x[2]['bar']['z']"
   ]
  },
  {
   "cell_type": "code",
   "execution_count": 120,
   "metadata": {
    "collapsed": true
   },
   "outputs": [
    {
     "data": {
      "text/plain": [
       "True"
      ]
     },
     "execution_count": 120,
     "metadata": {},
     "output_type": "execute_result"
    }
   ],
   "source": [
    "'z' in x[2]['bar']"
   ]
  },
  {
   "cell_type": "code",
   "execution_count": 121,
   "metadata": {},
   "outputs": [
    {
     "name": "stdout",
     "output_type": "stream",
     "text": [
      "{'foo': 100, 'baz': 300}\n"
     ]
    }
   ],
   "source": [
    "d = {'foo': 100, 'bar': 200, 'baz': 300}\n",
    "d.pop('bar')\n",
    "print(d)"
   ]
  },
  {
   "cell_type": "code",
   "execution_count": 129,
   "metadata": {},
   "outputs": [
    {
     "name": "stdout",
     "output_type": "stream",
     "text": [
      "{'foo': 100, 'bar': 200, 'baz': 300}\n",
      "{'foo': 100, 'bar': 200, 'baz': 300}\n"
     ]
    }
   ],
   "source": [
    "d1 = {'foo': 100, 'bar': 200, 'baz': 300}\n",
    "d2 = {}\n",
    "d2.update(d1)\n",
    "print(d2)\n",
    "d2 = d1\n",
    "print(d2)"
   ]
  },
  {
   "cell_type": "code",
   "execution_count": null,
   "metadata": {},
   "outputs": [],
   "source": []
  }
 ],
 "metadata": {
  "kernelspec": {
   "display_name": "Python 3",
   "language": "python",
   "name": "python3"
  },
  "language_info": {
   "codemirror_mode": {
    "name": "ipython",
    "version": 3
   },
   "file_extension": ".py",
   "mimetype": "text/x-python",
   "name": "python",
   "nbconvert_exporter": "python",
   "pygments_lexer": "ipython3",
   "version": "3.7.3"
  }
 },
 "nbformat": 4,
 "nbformat_minor": 2
}
