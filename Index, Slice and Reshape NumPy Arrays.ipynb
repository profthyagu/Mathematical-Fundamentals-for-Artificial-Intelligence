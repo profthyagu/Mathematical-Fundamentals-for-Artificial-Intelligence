{
 "cells": [
  {
   "cell_type": "markdown",
   "metadata": {},
   "source": [
    "# 1. From List to Arrays"
   ]
  },
  {
   "cell_type": "code",
   "execution_count": 1,
   "metadata": {},
   "outputs": [
    {
     "name": "stdout",
     "output_type": "stream",
     "text": [
      "[11 22 33 44 55]\n",
      "<class 'numpy.ndarray'>\n"
     ]
    }
   ],
   "source": [
    "# one dimensional list to arrays\n",
    "# create one-dimensional array \n",
    "from numpy import array \n",
    "# list of data \n",
    "data = [11, 22, 33, 44, 55] \n",
    "# array of data \n",
    "data = array(data) \n",
    "print(data) \n",
    "print(type(data))\n"
   ]
  },
  {
   "cell_type": "code",
   "execution_count": 2,
   "metadata": {},
   "outputs": [
    {
     "name": "stdout",
     "output_type": "stream",
     "text": [
      "[[11 22]\n",
      " [33 44]\n",
      " [55 66]]\n",
      "<class 'numpy.ndarray'>\n"
     ]
    }
   ],
   "source": [
    "# Two-Dimensional List of Lists to Array\n",
    "# create two-dimensional array \n",
    "from numpy import array \n",
    "# list of data \n",
    "data = [[11, 22], \n",
    "        [33, 44], \n",
    "        [55, 66]] \n",
    "# array of data \n",
    "data = array(data) \n",
    "print(data) \n",
    "print(type(data))\n"
   ]
  },
  {
   "cell_type": "markdown",
   "metadata": {},
   "source": [
    "# 2. Array Indexing\n"
   ]
  },
  {
   "cell_type": "code",
   "execution_count": 3,
   "metadata": {},
   "outputs": [
    {
     "name": "stdout",
     "output_type": "stream",
     "text": [
      "11\n",
      "55\n"
     ]
    }
   ],
   "source": [
    "# One-Dimensional Indexing\n",
    "# index a one-dimensional array \n",
    "from numpy import array \n",
    "# define array \n",
    "data = array([11, 22, 33, 44, 55])\n",
    "# index data \n",
    "print(data[0]) \n",
    "print(data[4])"
   ]
  },
  {
   "cell_type": "code",
   "execution_count": 4,
   "metadata": {},
   "outputs": [
    {
     "ename": "IndexError",
     "evalue": "index 5 is out of bounds for axis 0 with size 5",
     "output_type": "error",
     "traceback": [
      "\u001b[1;31m---------------------------------------------------------------------------\u001b[0m",
      "\u001b[1;31mIndexError\u001b[0m                                Traceback (most recent call last)",
      "\u001b[1;32m<ipython-input-4-e856e9efc9a6>\u001b[0m in \u001b[0;36m<module>\u001b[1;34m\u001b[0m\n\u001b[0;32m      4\u001b[0m \u001b[0mdata\u001b[0m \u001b[1;33m=\u001b[0m \u001b[0marray\u001b[0m\u001b[1;33m(\u001b[0m\u001b[1;33m[\u001b[0m\u001b[1;36m11\u001b[0m\u001b[1;33m,\u001b[0m \u001b[1;36m22\u001b[0m\u001b[1;33m,\u001b[0m \u001b[1;36m33\u001b[0m\u001b[1;33m,\u001b[0m \u001b[1;36m44\u001b[0m\u001b[1;33m,\u001b[0m \u001b[1;36m55\u001b[0m\u001b[1;33m]\u001b[0m\u001b[1;33m)\u001b[0m\u001b[1;33m\u001b[0m\u001b[1;33m\u001b[0m\u001b[0m\n\u001b[0;32m      5\u001b[0m \u001b[1;31m# index data\u001b[0m\u001b[1;33m\u001b[0m\u001b[1;33m\u001b[0m\u001b[1;33m\u001b[0m\u001b[0m\n\u001b[1;32m----> 6\u001b[1;33m \u001b[0mprint\u001b[0m\u001b[1;33m(\u001b[0m\u001b[0mdata\u001b[0m\u001b[1;33m[\u001b[0m\u001b[1;36m5\u001b[0m\u001b[1;33m]\u001b[0m\u001b[1;33m)\u001b[0m\u001b[1;33m\u001b[0m\u001b[1;33m\u001b[0m\u001b[0m\n\u001b[0m",
      "\u001b[1;31mIndexError\u001b[0m: index 5 is out of bounds for axis 0 with size 5"
     ]
    }
   ],
   "source": [
    "# index array out of bounds \n",
    "from numpy import array \n",
    "# define array \n",
    "data = array([11, 22, 33, 44, 55]) \n",
    "# index data \n",
    "print(data[5])\n"
   ]
  },
  {
   "cell_type": "code",
   "execution_count": 5,
   "metadata": {},
   "outputs": [
    {
     "name": "stdout",
     "output_type": "stream",
     "text": [
      "55\n",
      "11\n"
     ]
    }
   ],
   "source": [
    "# negative array indexing \n",
    "from numpy import array \n",
    "# define array \n",
    "data = array([11, 22, 33, 44, 55]) \n",
    "# index data \n",
    "print(data[-1]) \n",
    "print(data[-5])\n"
   ]
  },
  {
   "cell_type": "code",
   "execution_count": 7,
   "metadata": {},
   "outputs": [
    {
     "name": "stdout",
     "output_type": "stream",
     "text": [
      "11\n"
     ]
    }
   ],
   "source": [
    "# index two-dimensional array \n",
    "from numpy import array \n",
    "# define array \n",
    "data = array([ [11, 22], \n",
    "              [33, 44], \n",
    "              [55, 66]]) \n",
    "# index data \n",
    "print(data[0,0])\n"
   ]
  },
  {
   "cell_type": "code",
   "execution_count": 11,
   "metadata": {},
   "outputs": [
    {
     "name": "stdout",
     "output_type": "stream",
     "text": [
      "[33 44]\n"
     ]
    }
   ],
   "source": [
    "# Example of indexing the ﬁrst row of a two-dimensional array.\n",
    "# index row of two-dimensional array \n",
    "from numpy import array \n",
    "# define array\n",
    "data = array([ [11, 22], [33, 44], [55, 66]]) \n",
    "# index data \n",
    "print(data[1,])\n"
   ]
  },
  {
   "cell_type": "markdown",
   "metadata": {},
   "source": [
    "# 3. Array Slicing"
   ]
  },
  {
   "cell_type": "code",
   "execution_count": 12,
   "metadata": {},
   "outputs": [
    {
     "name": "stdout",
     "output_type": "stream",
     "text": [
      "[11 22 33 44 55]\n"
     ]
    }
   ],
   "source": [
    "# One-Dimensional Slicing\n",
    "# slice a one-dimensional array \n",
    "from numpy import array \n",
    "# define array \n",
    "data = array([11, 22, 33, 44, 55])\n",
    "print(data[:])\n"
   ]
  },
  {
   "cell_type": "code",
   "execution_count": 13,
   "metadata": {},
   "outputs": [
    {
     "name": "stdout",
     "output_type": "stream",
     "text": [
      "[11]\n"
     ]
    }
   ],
   "source": [
    "# slice a subset of a one-dimensional array \n",
    "from numpy import array\n",
    "# define array \n",
    "data = array([11, 22, 33, 44, 55]) \n",
    "print(data[0:1])\n"
   ]
  },
  {
   "cell_type": "code",
   "execution_count": 14,
   "metadata": {},
   "outputs": [
    {
     "name": "stdout",
     "output_type": "stream",
     "text": [
      "[44 55]\n"
     ]
    }
   ],
   "source": [
    "# negative slicing of a one-dimensional array \n",
    "from numpy import array \n",
    "# define array \n",
    "data = array([11, 22, 33, 44, 55]) \n",
    "print(data[-2:])\n"
   ]
  },
  {
   "cell_type": "code",
   "execution_count": 15,
   "metadata": {},
   "outputs": [
    {
     "name": "stdout",
     "output_type": "stream",
     "text": [
      "[[11 22]\n",
      " [44 55]\n",
      " [77 88]]\n",
      "[33 66 99]\n"
     ]
    }
   ],
   "source": [
    "# split input and output data \n",
    "from numpy import array \n",
    "# define array \n",
    "data = array([[11, 22, 33], \n",
    "              [44, 55, 66], \n",
    "              [77, 88, 99]]) \n",
    "# separate data \n",
    "X, y = data[:, :-1], data[:, -1] \n",
    "print(X) \n",
    "print(y)\n"
   ]
  },
  {
   "cell_type": "code",
   "execution_count": 16,
   "metadata": {},
   "outputs": [
    {
     "name": "stdout",
     "output_type": "stream",
     "text": [
      "[[11 22 33]\n",
      " [44 55 66]]\n",
      "[[77 88 99]]\n"
     ]
    }
   ],
   "source": [
    "# split train and test data \n",
    "from numpy import array \n",
    "# define array \n",
    "data = array([ [11, 22, 33],\n",
    "              [44, 55, 66], \n",
    "              [77, 88, 99]])\n",
    "# separate data \n",
    "split = 2 \n",
    "train,test = data[:split,:],data[split:,:] \n",
    "print(train) \n",
    "print(test)\n"
   ]
  },
  {
   "cell_type": "markdown",
   "metadata": {},
   "source": [
    "# 4. Array Reshaping"
   ]
  },
  {
   "cell_type": "code",
   "execution_count": 18,
   "metadata": {},
   "outputs": [
    {
     "name": "stdout",
     "output_type": "stream",
     "text": [
      "(5,)\n"
     ]
    }
   ],
   "source": [
    "# shape of one-dimensional array \n",
    "from numpy import array \n",
    "# define array \n",
    "data = array([11, 22, 33, 44, 55]) \n",
    "print(data.shape)"
   ]
  },
  {
   "cell_type": "code",
   "execution_count": 23,
   "metadata": {},
   "outputs": [
    {
     "name": "stdout",
     "output_type": "stream",
     "text": [
      "(3, 2)\n"
     ]
    }
   ],
   "source": [
    "# shape of a two-dimensional array \n",
    "from numpy import array \n",
    "# list of data \n",
    "data = [[11, 22], [33, 44], [55, 66]] \n",
    "# array of data \n",
    "data = array(data) \n",
    "print(data.shape)\n"
   ]
  },
  {
   "cell_type": "code",
   "execution_count": 20,
   "metadata": {},
   "outputs": [
    {
     "name": "stdout",
     "output_type": "stream",
     "text": [
      "Rows: 3\n",
      "Cols: 2\n"
     ]
    }
   ],
   "source": [
    "# row and column shape of two-dimensional array \n",
    "from numpy import array \n",
    "# list of data \n",
    "data = [[11, 22],[33, 44], [55, 66]] \n",
    "# array of data \n",
    "data = array(data) \n",
    "print('Rows: %d' % data.shape[0]) \n",
    "print('Cols: %d' % data.shape[1])\n"
   ]
  },
  {
   "cell_type": "code",
   "execution_count": 28,
   "metadata": {},
   "outputs": [
    {
     "name": "stdout",
     "output_type": "stream",
     "text": [
      "[11 22 33 44 55]\n",
      "(5,)\n",
      "(5, 1)\n"
     ]
    }
   ],
   "source": [
    "# reshape 1D array to 2D \n",
    "from numpy import array \n",
    "# define array \n",
    "data = array([11, 22, 33, 44, 55]) \n",
    "print(data)\n",
    "print(data.shape) \n",
    "# reshape \n",
    "data = data.reshape((data.shape[0], 1)) \n",
    "print(data.shape)"
   ]
  },
  {
   "cell_type": "code",
   "execution_count": 25,
   "metadata": {},
   "outputs": [
    {
     "name": "stdout",
     "output_type": "stream",
     "text": [
      "[[11]\n",
      " [22]\n",
      " [33]\n",
      " [44]\n",
      " [55]]\n"
     ]
    }
   ],
   "source": [
    "print(data)"
   ]
  },
  {
   "cell_type": "code",
   "execution_count": 29,
   "metadata": {},
   "outputs": [
    {
     "name": "stdout",
     "output_type": "stream",
     "text": [
      "[[11, 22], [33, 44], [55, 66]]\n",
      "(3, 2)\n",
      "(3, 2, 1)\n"
     ]
    }
   ],
   "source": [
    "# reshape 2D array to 3D \n",
    "from numpy import array \n",
    "# list of data \n",
    "data = [[11, 22], [33, 44], [55, 66]] \n",
    "print(data)\n",
    "# array of data \n",
    "data = array(data) \n",
    "print(data.shape) \n",
    "# reshape \n",
    "data = data.reshape((data.shape[0], data.shape[1], 1)) \n",
    "print(data.shape)\n"
   ]
  },
  {
   "cell_type": "code",
   "execution_count": 27,
   "metadata": {},
   "outputs": [
    {
     "name": "stdout",
     "output_type": "stream",
     "text": [
      "[[[11]\n",
      "  [22]]\n",
      "\n",
      " [[33]\n",
      "  [44]]\n",
      "\n",
      " [[55]\n",
      "  [66]]]\n"
     ]
    }
   ],
   "source": [
    "print(data)"
   ]
  },
  {
   "cell_type": "code",
   "execution_count": null,
   "metadata": {},
   "outputs": [],
   "source": []
  }
 ],
 "metadata": {
  "kernelspec": {
   "display_name": "Python 3",
   "language": "python",
   "name": "python3"
  },
  "language_info": {
   "codemirror_mode": {
    "name": "ipython",
    "version": 3
   },
   "file_extension": ".py",
   "mimetype": "text/x-python",
   "name": "python",
   "nbconvert_exporter": "python",
   "pygments_lexer": "ipython3",
   "version": "3.7.3"
  }
 },
 "nbformat": 4,
 "nbformat_minor": 2
}
