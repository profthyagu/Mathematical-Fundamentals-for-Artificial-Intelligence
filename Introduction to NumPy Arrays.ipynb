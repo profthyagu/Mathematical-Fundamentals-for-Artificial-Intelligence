{
 "cells": [
  {
   "cell_type": "markdown",
   "metadata": {},
   "source": [
    "#  Example of creating an array with the array() function"
   ]
  },
  {
   "cell_type": "code",
   "execution_count": 1,
   "metadata": {},
   "outputs": [
    {
     "name": "stdout",
     "output_type": "stream",
     "text": [
      "[1. 2. 3.]\n",
      "(3,)\n",
      "float64\n"
     ]
    }
   ],
   "source": [
    "# create array \n",
    "from numpy import array \n",
    "# create array \n",
    "l = [1.0, 2.0, 3.0] \n",
    "a = array(l) \n",
    "# display array \n",
    "print(a) \n",
    "# display array shape \n",
    "print(a.shape)\n",
    "# display array data type \n",
    "print(a.dtype)\n"
   ]
  },
  {
   "cell_type": "code",
   "execution_count": 2,
   "metadata": {},
   "outputs": [
    {
     "name": "stdout",
     "output_type": "stream",
     "text": [
      "[[1.03159552e-308 4.98979669e-111 6.62976411e-270]\n",
      " [4.89124989e-322 2.17292369e-311 1.82004088e-306]\n",
      " [8.90264492e-307 3.50919059e-191 1.06742258e-287]]\n"
     ]
    }
   ],
   "source": [
    "# create empty array \n",
    "from numpy import empty \n",
    "a = empty([3,3]) \n",
    "print(a)\n"
   ]
  },
  {
   "cell_type": "code",
   "execution_count": 3,
   "metadata": {},
   "outputs": [
    {
     "name": "stdout",
     "output_type": "stream",
     "text": [
      "[[0. 0. 0. 0. 0.]\n",
      " [0. 0. 0. 0. 0.]\n",
      " [0. 0. 0. 0. 0.]]\n"
     ]
    }
   ],
   "source": [
    "# create zero array \n",
    "from numpy import zeros \n",
    "a = zeros([3,5]) \n",
    "print(a)\n"
   ]
  },
  {
   "cell_type": "code",
   "execution_count": 4,
   "metadata": {},
   "outputs": [
    {
     "name": "stdout",
     "output_type": "stream",
     "text": [
      "[1. 1. 1. 1. 1.]\n"
     ]
    }
   ],
   "source": [
    "# create one array \n",
    "from numpy import ones \n",
    "a = ones([5]) \n",
    "print(a)\n"
   ]
  },
  {
   "cell_type": "code",
   "execution_count": 5,
   "metadata": {},
   "outputs": [
    {
     "name": "stdout",
     "output_type": "stream",
     "text": [
      "[1 2 3]\n",
      "[4 5 6]\n",
      "[[1 2 3]\n",
      " [4 5 6]]\n",
      "(2, 3)\n"
     ]
    }
   ],
   "source": [
    "# create array with vstack \n",
    "from numpy import array \n",
    "from numpy import vstack\n",
    "# create first array \n",
    "a1 = array([1,2,3]) \n",
    "print(a1) \n",
    "# create second array \n",
    "a2 = array([4,5,6]) \n",
    "print(a2) \n",
    "# vertical stack \n",
    "a3 = vstack((a1, a2)) \n",
    "print(a3) \n",
    "print(a3.shape)\n"
   ]
  },
  {
   "cell_type": "code",
   "execution_count": 6,
   "metadata": {},
   "outputs": [
    {
     "name": "stdout",
     "output_type": "stream",
     "text": [
      "[1 2 3]\n",
      "[4 5 6]\n",
      "[1 2 3 4 5 6]\n",
      "(6,)\n"
     ]
    }
   ],
   "source": [
    "# create array with hstack \n",
    "from numpy import array \n",
    "from numpy import hstack \n",
    "# create first array \n",
    "a1 = array([1,2,3]) \n",
    "print(a1) \n",
    "# create second array \n",
    "a2 = array([4,5,6]) \n",
    "print(a2) \n",
    "# create horizontal stack \n",
    "a3 = hstack((a1, a2)) \n",
    "print(a3) \n",
    "print(a3.shape)\n"
   ]
  },
  {
   "cell_type": "code",
   "execution_count": null,
   "metadata": {},
   "outputs": [],
   "source": []
  }
 ],
 "metadata": {
  "kernelspec": {
   "display_name": "Python 3",
   "language": "python",
   "name": "python3"
  },
  "language_info": {
   "codemirror_mode": {
    "name": "ipython",
    "version": 3
   },
   "file_extension": ".py",
   "mimetype": "text/x-python",
   "name": "python",
   "nbconvert_exporter": "python",
   "pygments_lexer": "ipython3",
   "version": "3.7.3"
  }
 },
 "nbformat": 4,
 "nbformat_minor": 2
}
